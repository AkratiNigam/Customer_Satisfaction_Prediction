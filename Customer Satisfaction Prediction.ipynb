{
 "cells": [
  {
   "cell_type": "markdown",
   "id": "65c03b28-d860-4bb6-8a14-3845e9893130",
   "metadata": {},
   "source": [
    "Importing Libraries"
   ]
  },
  {
   "cell_type": "code",
   "execution_count": 36,
   "id": "dc5c817d-afc3-4dc9-9e01-02528be73236",
   "metadata": {},
   "outputs": [],
   "source": [
    "import pandas as pd\n",
    "import numpy as np\n",
    "import re\n",
    "import os\n",
    "import json\n",
    "import matplotlib.pyplot as plt\n",
    "import seaborn as sns\n",
    "import datetime as dt\n",
    "import warnings\n",
    "warnings.filterwarnings(\"ignore\")"
   ]
  },
  {
   "cell_type": "markdown",
   "id": "0b240e69-b141-4caf-8b84-9e139e82ea81",
   "metadata": {},
   "source": [
    "Reading the dataset and preprocessing"
   ]
  },
  {
   "cell_type": "code",
   "execution_count": 37,
   "id": "1a3a1030-16e9-48b5-84f3-4aadd856c1d5",
   "metadata": {},
   "outputs": [
    {
     "data": {
      "text/html": [
       "<div>\n",
       "<style scoped>\n",
       "    .dataframe tbody tr th:only-of-type {\n",
       "        vertical-align: middle;\n",
       "    }\n",
       "\n",
       "    .dataframe tbody tr th {\n",
       "        vertical-align: top;\n",
       "    }\n",
       "\n",
       "    .dataframe thead th {\n",
       "        text-align: right;\n",
       "    }\n",
       "</style>\n",
       "<table border=\"1\" class=\"dataframe\">\n",
       "  <thead>\n",
       "    <tr style=\"text-align: right;\">\n",
       "      <th></th>\n",
       "      <th>Ticket ID</th>\n",
       "      <th>Customer Name</th>\n",
       "      <th>Customer Email</th>\n",
       "      <th>Customer Age</th>\n",
       "      <th>Customer Gender</th>\n",
       "      <th>Product Purchased</th>\n",
       "      <th>Date of Purchase</th>\n",
       "      <th>Ticket Type</th>\n",
       "      <th>Ticket Subject</th>\n",
       "      <th>Ticket Description</th>\n",
       "      <th>Ticket Status</th>\n",
       "      <th>Resolution</th>\n",
       "      <th>Ticket Priority</th>\n",
       "      <th>Ticket Channel</th>\n",
       "      <th>First Response Time</th>\n",
       "      <th>Time to Resolution</th>\n",
       "      <th>Customer Satisfaction Rating</th>\n",
       "    </tr>\n",
       "  </thead>\n",
       "  <tbody>\n",
       "    <tr>\n",
       "      <th>0</th>\n",
       "      <td>1</td>\n",
       "      <td>Marisa Obrien</td>\n",
       "      <td>carrollallison@example.com</td>\n",
       "      <td>32</td>\n",
       "      <td>Other</td>\n",
       "      <td>GoPro Hero</td>\n",
       "      <td>2021-03-22</td>\n",
       "      <td>Technical issue</td>\n",
       "      <td>Product setup</td>\n",
       "      <td>I'm having an issue with the {product_purchase...</td>\n",
       "      <td>Pending Customer Response</td>\n",
       "      <td>NaN</td>\n",
       "      <td>Critical</td>\n",
       "      <td>Social media</td>\n",
       "      <td>2023-06-01 12:15:36</td>\n",
       "      <td>NaN</td>\n",
       "      <td>NaN</td>\n",
       "    </tr>\n",
       "    <tr>\n",
       "      <th>1</th>\n",
       "      <td>2</td>\n",
       "      <td>Jessica Rios</td>\n",
       "      <td>clarkeashley@example.com</td>\n",
       "      <td>42</td>\n",
       "      <td>Female</td>\n",
       "      <td>LG Smart TV</td>\n",
       "      <td>2021-05-22</td>\n",
       "      <td>Technical issue</td>\n",
       "      <td>Peripheral compatibility</td>\n",
       "      <td>I'm having an issue with the {product_purchase...</td>\n",
       "      <td>Pending Customer Response</td>\n",
       "      <td>NaN</td>\n",
       "      <td>Critical</td>\n",
       "      <td>Chat</td>\n",
       "      <td>2023-06-01 16:45:38</td>\n",
       "      <td>NaN</td>\n",
       "      <td>NaN</td>\n",
       "    </tr>\n",
       "    <tr>\n",
       "      <th>2</th>\n",
       "      <td>3</td>\n",
       "      <td>Christopher Robbins</td>\n",
       "      <td>gonzalestracy@example.com</td>\n",
       "      <td>48</td>\n",
       "      <td>Other</td>\n",
       "      <td>Dell XPS</td>\n",
       "      <td>2020-07-14</td>\n",
       "      <td>Technical issue</td>\n",
       "      <td>Network problem</td>\n",
       "      <td>I'm facing a problem with my {product_purchase...</td>\n",
       "      <td>Closed</td>\n",
       "      <td>Case maybe show recently my computer follow.</td>\n",
       "      <td>Low</td>\n",
       "      <td>Social media</td>\n",
       "      <td>2023-06-01 11:14:38</td>\n",
       "      <td>2023-06-01 18:05:38</td>\n",
       "      <td>3.0</td>\n",
       "    </tr>\n",
       "    <tr>\n",
       "      <th>3</th>\n",
       "      <td>4</td>\n",
       "      <td>Christina Dillon</td>\n",
       "      <td>bradleyolson@example.org</td>\n",
       "      <td>27</td>\n",
       "      <td>Female</td>\n",
       "      <td>Microsoft Office</td>\n",
       "      <td>2020-11-13</td>\n",
       "      <td>Billing inquiry</td>\n",
       "      <td>Account access</td>\n",
       "      <td>I'm having an issue with the {product_purchase...</td>\n",
       "      <td>Closed</td>\n",
       "      <td>Try capital clearly never color toward story.</td>\n",
       "      <td>Low</td>\n",
       "      <td>Social media</td>\n",
       "      <td>2023-06-01 07:29:40</td>\n",
       "      <td>2023-06-01 01:57:40</td>\n",
       "      <td>3.0</td>\n",
       "    </tr>\n",
       "    <tr>\n",
       "      <th>4</th>\n",
       "      <td>5</td>\n",
       "      <td>Alexander Carroll</td>\n",
       "      <td>bradleymark@example.com</td>\n",
       "      <td>67</td>\n",
       "      <td>Female</td>\n",
       "      <td>Autodesk AutoCAD</td>\n",
       "      <td>2020-02-04</td>\n",
       "      <td>Billing inquiry</td>\n",
       "      <td>Data loss</td>\n",
       "      <td>I'm having an issue with the {product_purchase...</td>\n",
       "      <td>Closed</td>\n",
       "      <td>West decision evidence bit.</td>\n",
       "      <td>Low</td>\n",
       "      <td>Email</td>\n",
       "      <td>2023-06-01 00:12:42</td>\n",
       "      <td>2023-06-01 19:53:42</td>\n",
       "      <td>1.0</td>\n",
       "    </tr>\n",
       "  </tbody>\n",
       "</table>\n",
       "</div>"
      ],
      "text/plain": [
       "   Ticket ID        Customer Name              Customer Email  Customer Age  \\\n",
       "0          1        Marisa Obrien  carrollallison@example.com            32   \n",
       "1          2         Jessica Rios    clarkeashley@example.com            42   \n",
       "2          3  Christopher Robbins   gonzalestracy@example.com            48   \n",
       "3          4     Christina Dillon    bradleyolson@example.org            27   \n",
       "4          5    Alexander Carroll     bradleymark@example.com            67   \n",
       "\n",
       "  Customer Gender Product Purchased Date of Purchase      Ticket Type  \\\n",
       "0           Other        GoPro Hero       2021-03-22  Technical issue   \n",
       "1          Female       LG Smart TV       2021-05-22  Technical issue   \n",
       "2           Other          Dell XPS       2020-07-14  Technical issue   \n",
       "3          Female  Microsoft Office       2020-11-13  Billing inquiry   \n",
       "4          Female  Autodesk AutoCAD       2020-02-04  Billing inquiry   \n",
       "\n",
       "             Ticket Subject  \\\n",
       "0             Product setup   \n",
       "1  Peripheral compatibility   \n",
       "2           Network problem   \n",
       "3            Account access   \n",
       "4                 Data loss   \n",
       "\n",
       "                                  Ticket Description  \\\n",
       "0  I'm having an issue with the {product_purchase...   \n",
       "1  I'm having an issue with the {product_purchase...   \n",
       "2  I'm facing a problem with my {product_purchase...   \n",
       "3  I'm having an issue with the {product_purchase...   \n",
       "4  I'm having an issue with the {product_purchase...   \n",
       "\n",
       "               Ticket Status                                     Resolution  \\\n",
       "0  Pending Customer Response                                            NaN   \n",
       "1  Pending Customer Response                                            NaN   \n",
       "2                     Closed   Case maybe show recently my computer follow.   \n",
       "3                     Closed  Try capital clearly never color toward story.   \n",
       "4                     Closed                    West decision evidence bit.   \n",
       "\n",
       "  Ticket Priority Ticket Channel  First Response Time   Time to Resolution  \\\n",
       "0        Critical   Social media  2023-06-01 12:15:36                  NaN   \n",
       "1        Critical           Chat  2023-06-01 16:45:38                  NaN   \n",
       "2             Low   Social media  2023-06-01 11:14:38  2023-06-01 18:05:38   \n",
       "3             Low   Social media  2023-06-01 07:29:40  2023-06-01 01:57:40   \n",
       "4             Low          Email  2023-06-01 00:12:42  2023-06-01 19:53:42   \n",
       "\n",
       "   Customer Satisfaction Rating  \n",
       "0                           NaN  \n",
       "1                           NaN  \n",
       "2                           3.0  \n",
       "3                           3.0  \n",
       "4                           1.0  "
      ]
     },
     "execution_count": 37,
     "metadata": {},
     "output_type": "execute_result"
    }
   ],
   "source": [
    "data=pd.read_csv(\"customer_support_tickets.csv\")\n",
    "data.head()"
   ]
  },
  {
   "cell_type": "code",
   "execution_count": 38,
   "id": "cf28ea27-bae5-422d-b3e7-5c01b98619ad",
   "metadata": {},
   "outputs": [
    {
     "name": "stdout",
     "output_type": "stream",
     "text": [
      "<class 'pandas.core.frame.DataFrame'>\n",
      "RangeIndex: 8469 entries, 0 to 8468\n",
      "Data columns (total 17 columns):\n",
      " #   Column                        Non-Null Count  Dtype  \n",
      "---  ------                        --------------  -----  \n",
      " 0   Ticket ID                     8469 non-null   int64  \n",
      " 1   Customer Name                 8469 non-null   object \n",
      " 2   Customer Email                8469 non-null   object \n",
      " 3   Customer Age                  8469 non-null   int64  \n",
      " 4   Customer Gender               8469 non-null   object \n",
      " 5   Product Purchased             8469 non-null   object \n",
      " 6   Date of Purchase              8469 non-null   object \n",
      " 7   Ticket Type                   8469 non-null   object \n",
      " 8   Ticket Subject                8469 non-null   object \n",
      " 9   Ticket Description            8469 non-null   object \n",
      " 10  Ticket Status                 8469 non-null   object \n",
      " 11  Resolution                    2769 non-null   object \n",
      " 12  Ticket Priority               8469 non-null   object \n",
      " 13  Ticket Channel                8469 non-null   object \n",
      " 14  First Response Time           5650 non-null   object \n",
      " 15  Time to Resolution            2769 non-null   object \n",
      " 16  Customer Satisfaction Rating  2769 non-null   float64\n",
      "dtypes: float64(1), int64(2), object(14)\n",
      "memory usage: 1.1+ MB\n"
     ]
    }
   ],
   "source": [
    "data.info()"
   ]
  },
  {
   "cell_type": "markdown",
   "id": "2e47b4d2-e9a0-434d-a3bc-3d34782c9083",
   "metadata": {},
   "source": [
    "Fixing the format"
   ]
  },
  {
   "cell_type": "code",
   "execution_count": 39,
   "id": "062ee420-4311-4024-a72d-96a3d673c4c7",
   "metadata": {},
   "outputs": [],
   "source": [
    "data['Date of Purchase'] = pd.to_datetime(data['Date of Purchase'], format = '%Y-%m-%d') # fixing the date formats\n",
    "data['First Response Time'] = pd.to_datetime(data['First Response Time'], format = '%Y-%m-%d %H:%M:%S')\n",
    "data['Time to Resolution'] = pd.to_datetime(data['Time to Resolution'], format = '%Y-%m-%d %H:%M:%S')"
   ]
  },
  {
   "cell_type": "code",
   "execution_count": 40,
   "id": "478c8fdc-52a6-4ccb-8781-500ed729c76a",
   "metadata": {},
   "outputs": [
    {
     "data": {
      "text/plain": [
       "Ticket ID                          0\n",
       "Customer Name                      0\n",
       "Customer Email                     0\n",
       "Customer Age                       0\n",
       "Customer Gender                    0\n",
       "Product Purchased                  0\n",
       "Date of Purchase                   0\n",
       "Ticket Type                        0\n",
       "Ticket Subject                     0\n",
       "Ticket Description                 0\n",
       "Ticket Status                      0\n",
       "Resolution                      5700\n",
       "Ticket Priority                    0\n",
       "Ticket Channel                     0\n",
       "First Response Time             2819\n",
       "Time to Resolution              5700\n",
       "Customer Satisfaction Rating    5700\n",
       "dtype: int64"
      ]
     },
     "execution_count": 40,
     "metadata": {},
     "output_type": "execute_result"
    }
   ],
   "source": [
    "data.isnull().sum()"
   ]
  },
  {
   "cell_type": "markdown",
   "id": "1fdea839-5e02-4723-a9a8-8adc0be04129",
   "metadata": {},
   "source": [
    "Filling the null values with NAN"
   ]
  },
  {
   "cell_type": "code",
   "execution_count": 41,
   "id": "efe52d87-5448-48b8-91d2-0506be876144",
   "metadata": {},
   "outputs": [],
   "source": [
    "def fill_nulls_with_NAN(dataset):\n",
    "    \"\"\"\n",
    "    Fill null values in all columns of the dataset with \"NAN\".\n",
    "    \n",
    "    Parameters:\n",
    "        dataset (pd.DataFrame): Input DataFrame.\n",
    "        \n",
    "    Returns:\n",
    "        pd.DataFrame: DataFrame with null values filled with \"NAN\".\n",
    "    \"\"\"\n",
    "\n",
    "    dataset_filled = dataset.apply(lambda col: col.fillna(\"NAN\"))\n",
    "\n",
    "    return dataset_filled\n",
    "\n",
    "data = fill_nulls_with_NAN(data)"
   ]
  },
  {
   "cell_type": "code",
   "execution_count": 42,
   "id": "c2fb203e-ca53-41ed-98a3-e85ce9ce5fb6",
   "metadata": {},
   "outputs": [
    {
     "name": "stdout",
     "output_type": "stream",
     "text": [
      "<class 'pandas.core.frame.DataFrame'>\n",
      "RangeIndex: 8469 entries, 0 to 8468\n",
      "Data columns (total 17 columns):\n",
      " #   Column                        Non-Null Count  Dtype         \n",
      "---  ------                        --------------  -----         \n",
      " 0   Ticket ID                     8469 non-null   int64         \n",
      " 1   Customer Name                 8469 non-null   object        \n",
      " 2   Customer Email                8469 non-null   object        \n",
      " 3   Customer Age                  8469 non-null   int64         \n",
      " 4   Customer Gender               8469 non-null   object        \n",
      " 5   Product Purchased             8469 non-null   object        \n",
      " 6   Date of Purchase              8469 non-null   datetime64[ns]\n",
      " 7   Ticket Type                   8469 non-null   object        \n",
      " 8   Ticket Subject                8469 non-null   object        \n",
      " 9   Ticket Description            8469 non-null   object        \n",
      " 10  Ticket Status                 8469 non-null   object        \n",
      " 11  Resolution                    8469 non-null   object        \n",
      " 12  Ticket Priority               8469 non-null   object        \n",
      " 13  Ticket Channel                8469 non-null   object        \n",
      " 14  First Response Time           5650 non-null   datetime64[ns]\n",
      " 15  Time to Resolution            2769 non-null   datetime64[ns]\n",
      " 16  Customer Satisfaction Rating  8469 non-null   object        \n",
      "dtypes: datetime64[ns](3), int64(2), object(12)\n",
      "memory usage: 1.1+ MB\n"
     ]
    }
   ],
   "source": [
    "data.info()"
   ]
  },
  {
   "cell_type": "code",
   "execution_count": 43,
   "id": "24184ccd-ff89-4101-b231-5b374521a5f1",
   "metadata": {},
   "outputs": [
    {
     "data": {
      "text/plain": [
       "Ticket ID                          0\n",
       "Customer Name                      0\n",
       "Customer Email                     0\n",
       "Customer Age                       0\n",
       "Customer Gender                    0\n",
       "Product Purchased                  0\n",
       "Date of Purchase                   0\n",
       "Ticket Type                        0\n",
       "Ticket Subject                     0\n",
       "Ticket Description                 0\n",
       "Ticket Status                      0\n",
       "Resolution                         0\n",
       "Ticket Priority                    0\n",
       "Ticket Channel                     0\n",
       "First Response Time             2819\n",
       "Time to Resolution              5700\n",
       "Customer Satisfaction Rating       0\n",
       "dtype: int64"
      ]
     },
     "execution_count": 43,
     "metadata": {},
     "output_type": "execute_result"
    }
   ],
   "source": [
    "data.isnull().sum()"
   ]
  },
  {
   "cell_type": "markdown",
   "id": "b935d337-d443-4bf3-b2e6-ccbedddb0150",
   "metadata": {},
   "source": [
    "Drop the unnecessary features"
   ]
  },
  {
   "cell_type": "code",
   "execution_count": 44,
   "id": "98a596e3-7251-42cf-8015-93a4004b9fb5",
   "metadata": {},
   "outputs": [],
   "source": [
    "data.drop(['Ticket ID','Customer Name', 'Customer Email'], axis = 1, inplace = True)"
   ]
  },
  {
   "cell_type": "markdown",
   "id": "d978732e-cf0e-4df6-a5dd-6b8c385c5a51",
   "metadata": {},
   "source": [
    "Age classification"
   ]
  },
  {
   "cell_type": "code",
   "execution_count": 45,
   "id": "77478b00-6687-4466-8435-0455b44f3e11",
   "metadata": {},
   "outputs": [],
   "source": [
    "age = []\n",
    "for i in data['Customer Age']:\n",
    "    if i<=30:\n",
    "        age.append('Young')\n",
    "    elif 30<i<55:\n",
    "        age.append('Middle Aged')\n",
    "    else:\n",
    "        age.append('Senior')\n",
    "data['Age Classification'] = age"
   ]
  },
  {
   "cell_type": "code",
   "execution_count": 46,
   "id": "ee82e502-5e32-4814-b8b6-8afd963c33b5",
   "metadata": {},
   "outputs": [
    {
     "data": {
      "image/png": "[encoded data removed]",
      "text/plain": [
       "<Figure size 1000x500 with 1 Axes>"
      ]
     },
     "metadata": {},
     "output_type": "display_data"
    }
   ],
   "source": [
    "age_chart = data['Age Classification'].value_counts()\n",
    "gen_chart = data['Customer Gender'].value_counts()\n",
    "plt.figure(figsize = (10,5))\n",
    "plt.pie(age_chart, labels = age_chart.index, autopct='%.0f%%', colors = sns.color_palette('Set3'))\n",
    "plt.title('Customer age distribution', loc = 'center', pad = 10, size = 15)\n",
    "plt.show()"
   ]
  },
  {
   "cell_type": "code",
   "execution_count": 47,
   "id": "524ae17d-647f-4d79-b1c5-860e975cec76",
   "metadata": {},
   "outputs": [],
   "source": [
    "ticket_data = data[['Ticket Subject', 'Ticket Description', 'Ticket Type']]"
   ]
  },
  {
   "cell_type": "code",
   "execution_count": 48,
   "id": "7b571193-c514-4e1c-a8e7-164e18b2d1af",
   "metadata": {},
   "outputs": [
    {
     "data": {
      "text/plain": [
       "Text(0.5, 1.0, 'Distribution of Ticket data')"
      ]
     },
     "execution_count": 48,
     "metadata": {},
     "output_type": "execute_result"
    },
    {
     "data": {
      "image/png": "[encoded data removed]",
      "text/plain": [
       "<Figure size 640x480 with 1 Axes>"
      ]
     },
     "metadata": {},
     "output_type": "display_data"
    }
   ],
   "source": [
    "ticket_types = ticket_data['Ticket Type'].value_counts()\n",
    "\n",
    "categories = ticket_types.index\n",
    "counts = ticket_types.values\n",
    "\n",
    "\n",
    "plt.pie(counts, labels=categories, autopct='%1.1f%%', startangle=90, pctdistance=0.85, colors=sns.color_palette('Set3'))\n",
    "fig = plt.gcf()\n",
    "\n",
    "plt.axis('equal')\n",
    "plt.title('Distribution of Ticket data')"
   ]
  },
  {
   "cell_type": "markdown",
   "id": "dcc64665-4f51-4c08-8173-0da7115d016b",
   "metadata": {},
   "source": [
    "Feature Engineering"
   ]
  },
  {
   "cell_type": "markdown",
   "id": "ae1c2168-6aa1-4baf-96b9-41f40e0a1af1",
   "metadata": {},
   "source": [
    "Enhancing the text presentation by cleaning it"
   ]
  },
  {
   "cell_type": "code",
   "execution_count": 49,
   "id": "acb142d0-5a44-41f8-a328-f2e8df8b03f0",
   "metadata": {},
   "outputs": [],
   "source": [
    "ticket_data = data[['Ticket Subject', 'Ticket Description', 'Ticket Type']]\n",
    "def clean_text(text):\n",
    "    \"\"\"\n",
    "    Clean and preprocess a single text string.\n",
    "    \n",
    "    Parameters:\n",
    "        text (str): Input text to clean.\n",
    "        \n",
    "    Returns:\n",
    "        str: Cleaned text.\n",
    "    \"\"\"\n",
    "    text = str(text).lower()\n",
    "    text = re.sub(r'\\n', ' ', text)  # Remove newline characters\n",
    "    text = re.sub(r'\\t', ' ', text)  # Remove tab characters\n",
    "    text = re.sub(r'{.*?}', '', text)  # Remove between {}\n",
    "    text = re.sub(r'\\([^)]*\\)', '', text)  # Remove between ()\n",
    "    text = re.sub(r' +', ' ', text)  # Remove multiple space with single\n",
    "\n",
    "    return text"
   ]
  },
  {
   "cell_type": "code",
   "execution_count": 50,
   "id": "df8b3e38-e281-407a-a3f4-8c5f47a3dd02",
   "metadata": {},
   "outputs": [],
   "source": [
    "ticket_data['Ticket Description'] = data_ticket['Ticket Description'].apply(lambda x:clean_text(x))"
   ]
  },
  {
   "cell_type": "code",
   "execution_count": 51,
   "id": "cbd8cbf1-d5d0-4a37-b326-88f5f1dbfbfb",
   "metadata": {},
   "outputs": [
    {
     "data": {
      "text/plain": [
       "0       i'm having an issue with the . please assist. ...\n",
       "1       i'm having an issue with the . please assist. ...\n",
       "2       i'm facing a problem with my . the is not turn...\n",
       "3       i'm having an issue with the . please assist. ...\n",
       "4       i'm having an issue with the . please assist. ...\n",
       "                              ...                        \n",
       "8464    my is making strange noises and not functionin...\n",
       "8465    i'm having an issue with the . please assist. ...\n",
       "8466    i'm having an issue with the . please assist. ...\n",
       "8467    i'm having an issue with the . please assist. ...\n",
       "8468    there seems to be a hardware problem with my ....\n",
       "Name: Ticket Description, Length: 8469, dtype: object"
      ]
     },
     "execution_count": 51,
     "metadata": {},
     "output_type": "execute_result"
    }
   ],
   "source": [
    "ticket_data['Ticket Description']"
   ]
  },
  {
   "cell_type": "code",
   "execution_count": 58,
   "id": "dd1ccb7e-6b95-46a2-be55-3b91a6a04b40",
   "metadata": {},
   "outputs": [
    {
     "name": "stderr",
     "output_type": "stream",
     "text": [
      "[nltk_data] Downloading package stopwords to C:\\Users\\Akrati\n",
      "[nltk_data]     Nigam\\AppData\\Roaming\\nltk_data...\n",
      "[nltk_data]   Package stopwords is already up-to-date!\n",
      "[nltk_data] Downloading package punkt to C:\\Users\\Akrati\n",
      "[nltk_data]     Nigam\\AppData\\Roaming\\nltk_data...\n",
      "[nltk_data]   Package punkt is already up-to-date!\n",
      "[nltk_data] Downloading package punkt_tab to C:\\Users\\Akrati\n",
      "[nltk_data]     Nigam\\AppData\\Roaming\\nltk_data...\n",
      "[nltk_data]   Unzipping tokenizers\\punkt_tab.zip.\n"
     ]
    }
   ],
   "source": [
    "import nltk\n",
    "nltk.download('stopwords')\n",
    "nltk.download('punkt')\n",
    "nltk.download('punkt_tab')\n",
    "from nltk.corpus import stopwords\n",
    "from nltk.stem import *"
   ]
  },
  {
   "cell_type": "code",
   "execution_count": null,
   "id": "e6d5a792-9105-47b8-9671-6fac483c5f13",
   "metadata": {},
   "outputs": [],
   "source": [
    "def remove_stopwords(text):\n",
    "    \"\"\"\n",
    "    Tokenize a single text string into words.\n",
    "    \n",
    "    Parameters:\n",
    "        text (str): Input text to tokenize.\n",
    "        \n",
    "    Returns:\n",
    "        list: List of tokens (words).\n",
    "    \"\"\"\n",
    "    text = ' '.join(word for word in text.split() if word not in stopwords.words('english'))\n",
    "    return text\n",
    "\n",
    "ticket_data['Ticket Description'] = ticket_data['Ticket Description'].apply(lambda x:remove_stopwords(x))"
   ]
  },
  {
   "cell_type": "code",
   "execution_count": null,
   "id": "889708c1-2837-4770-aefc-320d7eac3cdd",
   "metadata": {},
   "outputs": [],
   "source": [
    "flattened_tokens = [token for sequence in ticket_data['Ticket Description'] for token in sequence]\n",
    "vocab_size = len(set(flattened_tokens))\n",
    "print(\"Vocabulary Size:\", vocab_size)"
   ]
  },
  {
   "cell_type": "code",
   "execution_count": null,
   "id": "b01781ad-65dc-441f-94ca-a911e7e0b216",
   "metadata": {},
   "outputs": [],
   "source": [
    "sequence_lengths = [len(sequence) for sequence in ticket_data['Ticket Description']]\n",
    "\n",
    "# Find the maximum length of input sequences\n",
    "max_length_of_input = max(sequence_lengths)\n",
    "\n",
    "print(\"Maximum Length of Input:\", max_length_of_input)"
   ]
  },
  {
   "cell_type": "code",
   "execution_count": null,
   "id": "21db2f9a-7682-46aa-b886-ad6370349084",
   "metadata": {},
   "outputs": [],
   "source": [
    "def tokenize_column(data, column_name):\n",
    "    \"\"\"\n",
    "    Tokenize the values in a specified column of the DataFrame.\n",
    "    \n",
    "    Parameters:\n",
    "        data (pd.DataFrame): Input DataFrame.\n",
    "        column_name (str): Name of the column to tokenize.\n",
    "        \n",
    "    Returns:\n",
    "        pd.Series: Series containing tokenized values.\n",
    "    \"\"\"\n",
    "    data['Tokenized words'] = data[column_name].apply(nltk.word_tokenize)\n",
    "    \n",
    "    return data\n",
    "ticket_data = tokenize_column(ticket_data, 'Ticket Description')"
   ]
  },
  {
   "cell_type": "code",
   "execution_count": 73,
   "id": "75f7c4a3-843e-4518-a53a-0ba7f253007c",
   "metadata": {},
   "outputs": [
    {
     "data": {
      "text/plain": [
       "0       i'm having an issue with the . please assist. ...\n",
       "1       i'm having an issue with the . please assist. ...\n",
       "2       i'm facing a problem with my . the is not turn...\n",
       "3       i'm having an issue with the . please assist. ...\n",
       "4       i'm having an issue with the . please assist. ...\n",
       "                              ...                        \n",
       "8464    my is making strange noises and not functionin...\n",
       "8465    i'm having an issue with the . please assist. ...\n",
       "8466    i'm having an issue with the . please assist. ...\n",
       "8467    i'm having an issue with the . please assist. ...\n",
       "8468    there seems to be a hardware problem with my ....\n",
       "Name: Ticket Description, Length: 8469, dtype: object"
      ]
     },
     "execution_count": 73,
     "metadata": {},
     "output_type": "execute_result"
    }
   ],
   "source": [
    "data_ticket['Ticket Description']"
   ]
  },
  {
   "cell_type": "markdown",
   "id": "5bae290e-4a9e-42ab-ab21-0f47ab4e7ad6",
   "metadata": {},
   "source": [
    "Stemming words"
   ]
  },
  {
   "cell_type": "code",
   "execution_count": 83,
   "id": "aa1554df-d981-449d-b393-9378d04c369c",
   "metadata": {},
   "outputs": [],
   "source": [
    "def stem_words(dataset, column):\n",
    "    stemmer = PorterStemmer()\n",
    "    dataset['Stemmed Token'] = dataset[column].apply(lambda words : [stemmer.stem(word) for word in words])\n",
    "    dataset['Stemmed Token'] = dataset['Stemmed Token'].apply(lambda x : ' '.join(x))\n",
    "    return dataset\n",
    "\n",
    "ticket_data = stem_words(ticket_data, 'Tokenized words')"
   ]
  },
  {
   "cell_type": "code",
   "execution_count": 84,
   "id": "ec484f61-037d-4303-bd59-c95e8333a34f",
   "metadata": {},
   "outputs": [
    {
     "data": {
      "text/html": [
       "<div>\n",
       "<style scoped>\n",
       "    .dataframe tbody tr th:only-of-type {\n",
       "        vertical-align: middle;\n",
       "    }\n",
       "\n",
       "    .dataframe tbody tr th {\n",
       "        vertical-align: top;\n",
       "    }\n",
       "\n",
       "    .dataframe thead th {\n",
       "        text-align: right;\n",
       "    }\n",
       "</style>\n",
       "<table border=\"1\" class=\"dataframe\">\n",
       "  <thead>\n",
       "    <tr style=\"text-align: right;\">\n",
       "      <th></th>\n",
       "      <th>Ticket Subject</th>\n",
       "      <th>Ticket Description</th>\n",
       "      <th>Ticket Type</th>\n",
       "    </tr>\n",
       "  </thead>\n",
       "  <tbody>\n",
       "    <tr>\n",
       "      <th>0</th>\n",
       "      <td>Product setup</td>\n",
       "      <td>i'm having an issue with the . please assist. ...</td>\n",
       "      <td>Technical issue</td>\n",
       "    </tr>\n",
       "    <tr>\n",
       "      <th>1</th>\n",
       "      <td>Peripheral compatibility</td>\n",
       "      <td>i'm having an issue with the . please assist. ...</td>\n",
       "      <td>Technical issue</td>\n",
       "    </tr>\n",
       "    <tr>\n",
       "      <th>2</th>\n",
       "      <td>Network problem</td>\n",
       "      <td>i'm facing a problem with my . the is not turn...</td>\n",
       "      <td>Technical issue</td>\n",
       "    </tr>\n",
       "    <tr>\n",
       "      <th>3</th>\n",
       "      <td>Account access</td>\n",
       "      <td>i'm having an issue with the . please assist. ...</td>\n",
       "      <td>Billing inquiry</td>\n",
       "    </tr>\n",
       "    <tr>\n",
       "      <th>4</th>\n",
       "      <td>Data loss</td>\n",
       "      <td>i'm having an issue with the . please assist. ...</td>\n",
       "      <td>Billing inquiry</td>\n",
       "    </tr>\n",
       "    <tr>\n",
       "      <th>...</th>\n",
       "      <td>...</td>\n",
       "      <td>...</td>\n",
       "      <td>...</td>\n",
       "    </tr>\n",
       "    <tr>\n",
       "      <th>8464</th>\n",
       "      <td>Installation support</td>\n",
       "      <td>my is making strange noises and not functionin...</td>\n",
       "      <td>Product inquiry</td>\n",
       "    </tr>\n",
       "    <tr>\n",
       "      <th>8465</th>\n",
       "      <td>Refund request</td>\n",
       "      <td>i'm having an issue with the . please assist. ...</td>\n",
       "      <td>Technical issue</td>\n",
       "    </tr>\n",
       "    <tr>\n",
       "      <th>8466</th>\n",
       "      <td>Account access</td>\n",
       "      <td>i'm having an issue with the . please assist. ...</td>\n",
       "      <td>Technical issue</td>\n",
       "    </tr>\n",
       "    <tr>\n",
       "      <th>8467</th>\n",
       "      <td>Payment issue</td>\n",
       "      <td>i'm having an issue with the . please assist. ...</td>\n",
       "      <td>Product inquiry</td>\n",
       "    </tr>\n",
       "    <tr>\n",
       "      <th>8468</th>\n",
       "      <td>Hardware issue</td>\n",
       "      <td>there seems to be a hardware problem with my ....</td>\n",
       "      <td>Billing inquiry</td>\n",
       "    </tr>\n",
       "  </tbody>\n",
       "</table>\n",
       "<p>8469 rows × 3 columns</p>\n",
       "</div>"
      ],
      "text/plain": [
       "                Ticket Subject  \\\n",
       "0                Product setup   \n",
       "1     Peripheral compatibility   \n",
       "2              Network problem   \n",
       "3               Account access   \n",
       "4                    Data loss   \n",
       "...                        ...   \n",
       "8464      Installation support   \n",
       "8465            Refund request   \n",
       "8466            Account access   \n",
       "8467             Payment issue   \n",
       "8468            Hardware issue   \n",
       "\n",
       "                                     Ticket Description      Ticket Type  \n",
       "0     i'm having an issue with the . please assist. ...  Technical issue  \n",
       "1     i'm having an issue with the . please assist. ...  Technical issue  \n",
       "2     i'm facing a problem with my . the is not turn...  Technical issue  \n",
       "3     i'm having an issue with the . please assist. ...  Billing inquiry  \n",
       "4     i'm having an issue with the . please assist. ...  Billing inquiry  \n",
       "...                                                 ...              ...  \n",
       "8464  my is making strange noises and not functionin...  Product inquiry  \n",
       "8465  i'm having an issue with the . please assist. ...  Technical issue  \n",
       "8466  i'm having an issue with the . please assist. ...  Technical issue  \n",
       "8467  i'm having an issue with the . please assist. ...  Product inquiry  \n",
       "8468  there seems to be a hardware problem with my ....  Billing inquiry  \n",
       "\n",
       "[8469 rows x 3 columns]"
      ]
     },
     "execution_count": 84,
     "metadata": {},
     "output_type": "execute_result"
    }
   ],
   "source": [
    "data_ticket"
   ]
  },
  {
   "cell_type": "markdown",
   "id": "05178076-ba0c-4970-958c-cddda0f8c570",
   "metadata": {},
   "source": [
    "Model Building and Training"
   ]
  },
  {
   "cell_type": "code",
   "execution_count": 87,
   "id": "105db3fb-c110-4ed0-a277-8da091ae4a97",
   "metadata": {},
   "outputs": [],
   "source": [
    "from sklearn.feature_extraction.text import TfidfVectorizer\n",
    "from sklearn.model_selection import train_test_split\n",
    "from sklearn.preprocessing import LabelEncoder\n",
    "from sklearn.metrics import confusion_matrix\n",
    "from sklearn.ensemble import RandomForestClassifier\n",
    "from sklearn.svm import SVC\n",
    "from sklearn.linear_model import LogisticRegression\n",
    "from sklearn.metrics import accuracy_score, classification_report\n",
    "from scipy.sparse import hstack\n",
    "from keras.layers import Dense, Conv1D, MaxPooling1D, Flatten, Embedding, Dropout\n",
    "from keras.preprocessing.sequence import pad_sequences\n",
    "from keras.models import Sequential\n",
    "from sklearn.model_selection import GridSearchCV"
   ]
  },
  {
   "cell_type": "markdown",
   "id": "96abcc41-1de6-4b29-9405-228fab24452f",
   "metadata": {},
   "source": [
    "Vectorizing"
   ]
  },
  {
   "cell_type": "code",
   "execution_count": 88,
   "id": "8e6bc164-6276-49cc-a150-94136d29d228",
   "metadata": {},
   "outputs": [],
   "source": [
    "vectorizer = TfidfVectorizer(max_features = 25000)"
   ]
  },
  {
   "cell_type": "code",
   "execution_count": 89,
   "id": "81763eca-54fa-4883-aadf-8e3c77f9b0d6",
   "metadata": {},
   "outputs": [],
   "source": [
    "label_encoder = LabelEncoder()\n",
    "ticket_data['Encoded Ticket type'] = label_encoder.fit_transform(ticket_data['Ticket Type'])\n",
    "ticket_data['Encoded Ticket Subject'] = label_encoder.fit_transform(ticket_data['Ticket Subject'])"
   ]
  },
  {
   "cell_type": "code",
   "execution_count": 90,
   "id": "d86e9d27-86bc-4aac-b05c-1544f90bf544",
   "metadata": {},
   "outputs": [],
   "source": [
    "x = ticket_data[['Stemmed Token', 'Encoded Ticket Subject']]\n",
    "y = ticket_data[['Encoded Ticket type']]\n",
    "x_train, x_test, y_train, y_test = train_test_split(x, y, test_size = 0.3, random_state=42)\n",
    "\n",
    "# fit the TfidfVectorizer on the training data\n",
    "vectorizer.fit(x_train['Stemmed Token'])\n",
    "\n",
    "# transform both training and testing data with the same vectorizer\n",
    "x_train_transformed = vectorizer.transform(x_train['Stemmed Token'])\n",
    "x_test_transformed = vectorizer.transform(x_test['Stemmed Token'])"
   ]
  },
  {
   "cell_type": "markdown",
   "id": "9e51c24e-edf0-4cd4-bc10-53e4729a62c1",
   "metadata": {},
   "source": [
    "Logistic Regression"
   ]
  },
  {
   "cell_type": "code",
   "execution_count": 91,
   "id": "bea58162-0c79-42d8-92cf-60c210413e8c",
   "metadata": {},
   "outputs": [
    {
     "name": "stdout",
     "output_type": "stream",
     "text": [
      "Accuracy of Logistic Regression Model: 0.18772136953955135\n"
     ]
    }
   ],
   "source": [
    "model = LogisticRegression(multi_class='multinomial', solver='lbfgs', max_iter=1000)\n",
    "\n",
    "model.fit(x_train_transformed, y_train)\n",
    "\n",
    "y_pred = model.predict(x_test_transformed)\n",
    "\n",
    "# evaluate the accuracy\n",
    "acc = accuracy_score(y_test, y_pred)\n",
    "print(f\"Accuracy of Logistic Regression Model: {acc}\")"
   ]
  },
  {
   "cell_type": "code",
   "execution_count": 96,
   "id": "0bab6bd2-8cc6-4e5f-aff3-4b4534b46cf4",
   "metadata": {},
   "outputs": [],
   "source": [
    "X_train_subjects, X_test_subjects, y_train, y_test = train_test_split(\n",
    "    ticket_data['Encoded Ticket Subject'].values.reshape(-1, 1), ticket_data['Encoded Ticket type'], test_size=0.3, random_state=42)\n",
    "X_train_tfidf = vectorizer.transform(x_train['Stemmed Token'])\n",
    "X_test_tfidf = vectorizer.transform(x_test['Stemmed Token'])\n",
    "\n",
    "#Concatenate the encoded subject features and TF-IDF vectorized descriptions\n",
    "X_train_combined = hstack([X_train_subjects, X_train_tfidf])\n",
    "X_test_combined = hstack([X_test_subjects, X_test_tfidf])"
   ]
  },
  {
   "cell_type": "markdown",
   "id": "447550bd-fb30-43ba-bb76-d51a341e57a1",
   "metadata": {},
   "source": [
    "Random Forest Classifier"
   ]
  },
  {
   "cell_type": "code",
   "execution_count": 97,
   "id": "6859ca84-4c17-407d-80fe-18b98db93bd3",
   "metadata": {},
   "outputs": [
    {
     "name": "stdout",
     "output_type": "stream",
     "text": [
      "Random Forest Classifier:\n",
      "Accuracy: 0.2066115702479339\n",
      "Classification Report:\n",
      "              precision    recall  f1-score   support\n",
      "\n",
      "           0       0.24      0.18      0.20       528\n",
      "           1       0.19      0.22      0.21       488\n",
      "           2       0.17      0.16      0.16       481\n",
      "           3       0.23      0.28      0.25       520\n",
      "           4       0.20      0.20      0.20       524\n",
      "\n",
      "    accuracy                           0.21      2541\n",
      "   macro avg       0.21      0.21      0.20      2541\n",
      "weighted avg       0.21      0.21      0.21      2541\n",
      "\n"
     ]
    }
   ],
   "source": [
    "rfc = RandomForestClassifier(n_estimators=100, random_state=42)\n",
    "rfc.fit(X_train_combined, y_train)\n",
    "\n",
    "rf_predictions = rfc.predict(X_test_combined)\n",
    "\n",
    "rf_accuracy = accuracy_score(y_test, rf_predictions)\n",
    "rf_report = classification_report(y_test, rf_predictions)\n",
    "\n",
    "print(\"Random Forest Classifier:\")\n",
    "print(\"Accuracy:\", rf_accuracy)\n",
    "print(\"Classification Report:\")\n",
    "print(rf_report)"
   ]
  },
  {
   "cell_type": "markdown",
   "id": "c35f489d-2348-44a3-92f2-4da4addaf9c5",
   "metadata": {},
   "source": [
    "SVM Classifier"
   ]
  },
  {
   "cell_type": "code",
   "execution_count": null,
   "id": "6d7ae88b-781a-4856-bd2b-6425282e53dd",
   "metadata": {},
   "outputs": [],
   "source": [
    "svmc = SVC(kernel='linear', random_state=42)\n",
    "svmc.fit(X_train_combined, y_train)\n",
    "\n",
    "svm_predictions = svmc.predict(X_test_combined)\n",
    "\n",
    "svm_accuracy = accuracy_score(y_test, svm_predictions)\n",
    "svm_report = classification_report(y_test, svm_predictions)\n",
    "\n",
    "print(\"\\nSupport Vector Machine Classifier:\")\n",
    "print(\"Accuracy:\", svm_accuracy)\n",
    "print(\"Classification Report:\")\n",
    "print(svm_report)\n",
    "\n",
    "Deep learning model"
   ]
  },
  {
   "cell_type": "code",
   "execution_count": 99,
   "id": "d1c2ec95-7d49-458d-934e-611f76aced14",
   "metadata": {},
   "outputs": [
    {
     "name": "stdout",
     "output_type": "stream",
     "text": [
      "Epoch 1/10\n",
      "\u001b[1m149/149\u001b[0m \u001b[32m━━━━━━━━━━━━━━━━━━━━\u001b[0m\u001b[37m\u001b[0m \u001b[1m201s\u001b[0m 1s/step - accuracy: 0.2009 - loss: 1.6196 - val_accuracy: 0.2083 - val_loss: 1.6086\n",
      "Epoch 2/10\n",
      "\u001b[1m149/149\u001b[0m \u001b[32m━━━━━━━━━━━━━━━━━━━━\u001b[0m\u001b[37m\u001b[0m \u001b[1m202s\u001b[0m 1s/step - accuracy: 0.2099 - loss: 1.6091 - val_accuracy: 0.2083 - val_loss: 1.6083\n",
      "Epoch 3/10\n",
      "\u001b[1m149/149\u001b[0m \u001b[32m━━━━━━━━━━━━━━━━━━━━\u001b[0m\u001b[37m\u001b[0m \u001b[1m226s\u001b[0m 2s/step - accuracy: 0.2113 - loss: 1.6089 - val_accuracy: 0.2083 - val_loss: 1.6082\n",
      "Epoch 4/10\n",
      "\u001b[1m149/149\u001b[0m \u001b[32m━━━━━━━━━━━━━━━━━━━━\u001b[0m\u001b[37m\u001b[0m \u001b[1m204s\u001b[0m 1s/step - accuracy: 0.2161 - loss: 1.6093 - val_accuracy: 0.2083 - val_loss: 1.6080\n",
      "Epoch 5/10\n",
      "\u001b[1m149/149\u001b[0m \u001b[32m━━━━━━━━━━━━━━━━━━━━\u001b[0m\u001b[37m\u001b[0m \u001b[1m213s\u001b[0m 1s/step - accuracy: 0.2153 - loss: 1.6089 - val_accuracy: 0.2083 - val_loss: 1.6080\n",
      "Epoch 6/10\n",
      "\u001b[1m149/149\u001b[0m \u001b[32m━━━━━━━━━━━━━━━━━━━━\u001b[0m\u001b[37m\u001b[0m \u001b[1m213s\u001b[0m 1s/step - accuracy: 0.2067 - loss: 1.6094 - val_accuracy: 0.2083 - val_loss: 1.6080\n",
      "Epoch 7/10\n",
      "\u001b[1m149/149\u001b[0m \u001b[32m━━━━━━━━━━━━━━━━━━━━\u001b[0m\u001b[37m\u001b[0m \u001b[1m209s\u001b[0m 1s/step - accuracy: 0.2037 - loss: 1.6090 - val_accuracy: 0.2083 - val_loss: 1.6079\n",
      "Epoch 8/10\n",
      "\u001b[1m149/149\u001b[0m \u001b[32m━━━━━━━━━━━━━━━━━━━━\u001b[0m\u001b[37m\u001b[0m \u001b[1m188s\u001b[0m 1s/step - accuracy: 0.1932 - loss: 1.6100 - val_accuracy: 0.2083 - val_loss: 1.6079\n",
      "Epoch 9/10\n",
      "\u001b[1m149/149\u001b[0m \u001b[32m━━━━━━━━━━━━━━━━━━━━\u001b[0m\u001b[37m\u001b[0m \u001b[1m189s\u001b[0m 1s/step - accuracy: 0.1985 - loss: 1.6098 - val_accuracy: 0.2083 - val_loss: 1.6079\n",
      "Epoch 10/10\n",
      "\u001b[1m149/149\u001b[0m \u001b[32m━━━━━━━━━━━━━━━━━━━━\u001b[0m\u001b[37m\u001b[0m \u001b[1m190s\u001b[0m 1s/step - accuracy: 0.2063 - loss: 1.6092 - val_accuracy: 0.2083 - val_loss: 1.6079\n",
      "\u001b[1m80/80\u001b[0m \u001b[32m━━━━━━━━━━━━━━━━━━━━\u001b[0m\u001b[37m\u001b[0m \u001b[1m15s\u001b[0m 189ms/step - accuracy: 0.2023 - loss: 1.6106\n",
      "Test Accuracy: 0.2046438455581665\n"
     ]
    }
   ],
   "source": [
    "model = Sequential()\n",
    "model.add(Embedding(input_dim=200, output_dim=50, input_length=307))\n",
    "model.add(Conv1D(filters=128, kernel_size=5, activation='relu'))\n",
    "model.add(MaxPooling1D(pool_size=2))\n",
    "model.add(Conv1D(filters=64, kernel_size=5, activation='relu'))\n",
    "model.add(MaxPooling1D(pool_size=2))\n",
    "model.add(Flatten())\n",
    "model.add(Dense(128, activation='relu'))\n",
    "model.add(Dropout(0.5))\n",
    "model.add(Dense(5, activation='softmax'))\n",
    "\n",
    "model.compile(optimizer='adam', loss='sparse_categorical_crossentropy', metrics=['accuracy'])\n",
    "\n",
    "model.fit(X_train_combined, y_train, epochs=10, batch_size=32, validation_split=0.2)\n",
    "\n",
    "# Evaluate the model\n",
    "loss, accuracy = model.evaluate(X_test_combined, y_test)\n",
    "print('Test Accuracy:', accuracy)"
   ]
  }
 ],
 "metadata": {
  "kernelspec": {
   "display_name": "Python 3 (ipykernel)",
   "language": "python",
   "name": "python3"
  },
  "language_info": {
   "codemirror_mode": {
    "name": "ipython",
    "version": 3
   },
   "file_extension": ".py",
   "mimetype": "text/x-python",
   "name": "python",
   "nbconvert_exporter": "python",
   "pygments_lexer": "ipython3",
   "version": "3.12.7"
  }
 },
 "nbformat": 4,
 "nbformat_minor": 5
}
